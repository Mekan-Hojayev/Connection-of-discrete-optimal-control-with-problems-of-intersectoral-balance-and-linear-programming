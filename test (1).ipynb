{
  "cells": [
    {
      "cell_type": "code",
      "execution_count": 2,
      "metadata": {
        "collapsed": true,
        "id": "mcq3bNxf3x2L"
      },
      "outputs": [],
      "source": [
        "import numpy as np\n",
        "import scipy\n",
        "import time"
      ]
    },
    {
      "cell_type": "code",
      "execution_count": 3,
      "outputs": [],
      "source": [
        "n = 5000\n",
        "show_info = False\n",
        "t = 10"
      ],
      "metadata": {
        "id": "DKaGMVrZ3x2Q"
      }
    },
    {
      "cell_type": "code",
      "source": [
        "from scipy.sparse import csr_matrix"
      ],
      "metadata": {
        "id": "SgOQ3dQe4S3e"
      },
      "execution_count": 4,
      "outputs": []
    },
    {
      "cell_type": "code",
      "source": [
        "from scipy.sparse import linalg"
      ],
      "metadata": {
        "id": "F8Ou2vpW4joH"
      },
      "execution_count": 5,
      "outputs": []
    },
    {
      "cell_type": "code",
      "execution_count": 6,
      "outputs": [],
      "source": [
        "C = scipy.sparse.random(n, n, density=0.02, format='coo', dtype=np.float16)\n",
        "A = scipy.sparse.identity(n, np.float16, format='coo') - C\n",
        "#A = scipy.sparse.csr_array(A)\n",
        "B = np.random.rand(n)"
      ],
      "metadata": {
        "id": "dc_bGEYZ3x2S"
      }
    },
    {
      "cell_type": "markdown",
      "source": [
        "Approach 1: use implemented option"
      ],
      "metadata": {
        "collapsed": false,
        "id": "Cs45Adtw3x2T"
      }
    },
    {
      "cell_type": "code",
      "execution_count": 12,
      "outputs": [
        {
          "output_type": "stream",
          "name": "stdout",
          "text": [
            "mean time: 23.094774460792543\n",
            "max max error: 4.506595097097943e-11\n"
          ]
        }
      ],
      "source": [
        "tries = []\n",
        "errors = []\n",
        "for i in range(t):\n",
        "    start_time = time.time()\n",
        "    X = scipy.sparse.linalg.spsolve(A, B)\n",
        "    end_time = time.time()\n",
        "    errors.append(B - A @ X)\n",
        "    tries.append(end_time - start_time)\n",
        "mean_time1 = np.mean(tries)\n",
        "error1 = np.max(errors)\n",
        "print('mean time:', mean_time1)\n",
        "print('max max error:', error1)"
      ],
      "metadata": {
        "colab": {
          "base_uri": "https://localhost:8080/"
        },
        "id": "ZSnz21zJ3x2Y",
        "outputId": "8101a8b7-f92f-41d1-c1d6-f11473ac86e1"
      }
    },
    {
      "cell_type": "markdown",
      "source": [
        "#Approach 2: use iterative Least Squares"
      ],
      "metadata": {
        "collapsed": false,
        "id": "fE670E0x3x2c"
      }
    },
    {
      "cell_type": "code",
      "execution_count": 13,
      "outputs": [
        {
          "output_type": "stream",
          "name": "stdout",
          "text": [
            "mean time: 6.150711131095886\n",
            "max max error: 0.0394107015329449\n"
          ]
        }
      ],
      "source": [
        "tries = []\n",
        "errors = []\n",
        "for i in range(t):\n",
        "    start_time = time.time()\n",
        "    X = scipy.sparse.linalg.lsmr(A, B, atol=1e-05, btol=1e-05, show=show_info, x0=None)\n",
        "    end_time = time.time()\n",
        "    errors.append(B - A @ X[0])\n",
        "    tries.append(end_time - start_time)\n",
        "mean_time2 = np.mean(tries)\n",
        "error2 = np.max(errors)\n",
        "print('mean time:', mean_time2)\n",
        "print('max max error:', error2)"
      ],
      "metadata": {
        "colab": {
          "base_uri": "https://localhost:8080/"
        },
        "id": "oUCnbCz03x2d",
        "outputId": "c6b9d244-9b08-479e-b2f9-3b119a2a0942"
      }
    },
    {
      "cell_type": "markdown",
      "source": [
        "Approach 3: Use Least Squares"
      ],
      "metadata": {
        "collapsed": false,
        "id": "wvtQP_t53x2f"
      }
    },
    {
      "cell_type": "code",
      "execution_count": 14,
      "outputs": [
        {
          "output_type": "stream",
          "name": "stdout",
          "text": [
            "mean time: 7.804008913040161\n",
            "max max error: 0.033859231310702564\n"
          ]
        }
      ],
      "source": [
        "tries = []\n",
        "errors = []\n",
        "for i in range(t):\n",
        "    start_time = time.time()\n",
        "    X = scipy.sparse.linalg.lsqr(A, B, atol=1e-05, btol=1e-05, show=show_info, x0=None)\n",
        "    end_time = time.time()\n",
        "    errors.append(B - A @ X[0])\n",
        "    tries.append(end_time - start_time)\n",
        "mean_time3 = np.mean(tries)\n",
        "error3 = np.max(errors)\n",
        "print('mean time:', mean_time3)\n",
        "print('max max error:', error3)"
      ],
      "metadata": {
        "colab": {
          "base_uri": "https://localhost:8080/"
        },
        "id": "ykzTHlLW3x2g",
        "outputId": "7c645e05-eaec-4a86-c39f-4ebd154b0672"
      }
    },
    {
      "cell_type": "code",
      "source": [
        "dim_range = [1000*i for i in range(1, 6)]\n",
        "time_range_first = []\n",
        "time_range_second = []\n",
        "time_range_third = []\n",
        "for n in dim_range:\n",
        "    print(\"Dimension = {}\".format(n))\n",
        "    C = scipy.sparse.random(n, n, density=0.02, format='coo', dtype=np.float16)\n",
        "    A = scipy.sparse.identity(n, np.float16, format='coo') - C\n",
        "    B = np.random.rand(n)\n",
        "\n",
        "    t = %timeit -o -q scipy.sparse.linalg.spsolve(A, B)\n",
        "    time_range_first.append(t.best)\n",
        "    t = %timeit -o -q scipy.sparse.linalg.lsmr(A, B, atol=1e-05, btol=1e-05, show=show_info, x0=None)\n",
        "    time_range_second.append(t.best)\n",
        "    t = %timeit -o -q scipy.sparse.linalg.lsqr(A, B, atol=1e-05, btol=1e-05, show=show_info, x0=None)\n",
        "    time_range_third.append(t.best)"
      ],
      "metadata": {
        "colab": {
          "base_uri": "https://localhost:8080/"
        },
        "id": "3JuIa0yqFBDi",
        "outputId": "f23d49e8-3f71-4f29-c500-abec2a9f07c9"
      },
      "execution_count": 30,
      "outputs": [
        {
          "output_type": "stream",
          "name": "stdout",
          "text": [
            "Dimension = 1000\n",
            "Dimension = 2000\n",
            "Dimension = 3000\n",
            "Dimension = 4000\n",
            "Dimension = 5000\n"
          ]
        }
      ]
    },
    {
      "cell_type": "code",
      "source": [
        "plt.plot(dim_range, time_range_first, label=\"1\")\n",
        "plt.plot(dim_range, time_range_second, label=\"2\")\n",
        "plt.plot(dim_range, time_range_third, label=\"3\")\n",
        "plt.legend(fontsize=18)\n",
        "plt.xlabel(\"Dimension of matrix\", fontsize=18)\n",
        "plt.ylabel(\"Time\", fontsize=18)\n",
        "plt.yscale(\"log\")"
      ],
      "metadata": {
        "colab": {
          "base_uri": "https://localhost:8080/",
          "height": 287
        },
        "id": "kFX7DYHGHqoV",
        "outputId": "67df85ff-6a08-4b37-aafa-591df98dc33b"
      },
      "execution_count": 31,
      "outputs": [
        {
          "output_type": "display_data",
          "data": {
            "text/plain": [
              "<Figure size 432x288 with 1 Axes>"
            ],
            "image/png": "[encoded data removed]"
          },
          "metadata": {
            "needs_background": "light"
          }
        }
      ]
    },
    {
      "cell_type": "code",
      "source": [
        "dim_range = [100*i for i in range(1, 11)]\n",
        "time_range_first = []\n",
        "time_range_second = []\n",
        "time_range_third = []\n",
        "for n in dim_range:\n",
        "    print(\"Dimension = {}\".format(n))\n",
        "    C = scipy.sparse.random(n, n, density=0.02, format='coo', dtype=np.float16)\n",
        "    A = scipy.sparse.identity(n, np.float16, format='coo') - C\n",
        "    B = np.random.rand(n)\n",
        "\n",
        "    t = %timeit -o -q scipy.sparse.linalg.spsolve(A, B)\n",
        "    time_range_first.append(t.best)\n",
        "    t = %timeit -o -q scipy.sparse.linalg.lsmr(A, B, atol=1e-05, btol=1e-05, show=show_info, x0=None)\n",
        "    time_range_second.append(t.best)\n",
        "    t = %timeit -o -q scipy.sparse.linalg.lsqr(A, B, atol=1e-05, btol=1e-05, show=show_info, x0=None)\n",
        "    time_range_third.append(t.best)"
      ],
      "metadata": {
        "colab": {
          "base_uri": "https://localhost:8080/"
        },
        "id": "1sOFQ0onLyz-",
        "outputId": "245aabc3-87a4-4cd0-c5d0-450c2d354c00"
      },
      "execution_count": 33,
      "outputs": [
        {
          "output_type": "stream",
          "name": "stdout",
          "text": [
            "Dimension = 100\n",
            "Dimension = 200\n",
            "Dimension = 300\n",
            "Dimension = 400\n",
            "Dimension = 500\n",
            "Dimension = 600\n",
            "Dimension = 700\n",
            "Dimension = 800\n",
            "Dimension = 900\n",
            "Dimension = 1000\n"
          ]
        }
      ]
    },
    {
      "cell_type": "code",
      "source": [
        "plt.plot(dim_range, time_range_first, label=\"1\")\n",
        "plt.plot(dim_range, time_range_second, label=\"2\")\n",
        "plt.plot(dim_range, time_range_third, label=\"3\")\n",
        "plt.legend(fontsize=18)\n",
        "plt.xlabel(\"Dimension\", fontsize=18)\n",
        "plt.ylabel(\"Time\", fontsize=18)\n",
        "plt.yscale(\"log\")"
      ],
      "metadata": {
        "colab": {
          "base_uri": "https://localhost:8080/",
          "height": 287
        },
        "id": "0HmYKuL0MF65",
        "outputId": "e4987d0a-58d1-4a68-f7c7-2341d36d8da3"
      },
      "execution_count": 34,
      "outputs": [
        {
          "output_type": "display_data",
          "data": {
            "text/plain": [
              "<Figure size 432x288 with 1 Axes>"
            ],
            "image/png": "[encoded data removed]"
          },
          "metadata": {
            "needs_background": "light"
          }
        }
      ]
    },
    {
      "cell_type": "code",
      "source": [
        "dim_range = [10*i for i in range(1, 11)]\n",
        "time_range_first = []\n",
        "time_range_second = []\n",
        "time_range_third = []\n",
        "for n in dim_range:\n",
        "    print(\"Dimension = {}\".format(n))\n",
        "    C = scipy.sparse.random(n, n, density=0.02, format='coo', dtype=np.float16)\n",
        "    A = scipy.sparse.identity(n, np.float16, format='coo') - C\n",
        "    B = np.random.rand(n)\n",
        "\n",
        "    t = %timeit -o -q scipy.sparse.linalg.spsolve(A, B)\n",
        "    time_range_first.append(t.best)\n",
        "    t = %timeit -o -q scipy.sparse.linalg.lsmr(A, B, atol=1e-05, btol=1e-05, show=show_info, x0=None)\n",
        "    time_range_second.append(t.best)\n",
        "    t = %timeit -o -q scipy.sparse.linalg.lsqr(A, B, atol=1e-05, btol=1e-05, show=show_info, x0=None)\n",
        "    time_range_third.append(t.best)"
      ],
      "metadata": {
        "colab": {
          "base_uri": "https://localhost:8080/"
        },
        "id": "yw443IXWNu1A",
        "outputId": "18206f59-de7b-4771-928d-e73c722438c1"
      },
      "execution_count": 35,
      "outputs": [
        {
          "output_type": "stream",
          "name": "stdout",
          "text": [
            "Dimension = 10\n",
            "Dimension = 20\n",
            "Dimension = 30\n",
            "Dimension = 40\n",
            "Dimension = 50\n",
            "Dimension = 60\n",
            "Dimension = 70\n",
            "Dimension = 80\n",
            "Dimension = 90\n",
            "Dimension = 100\n"
          ]
        }
      ]
    },
    {
      "cell_type": "code",
      "source": [
        "plt.plot(dim_range, time_range_first, label=\"1\")\n",
        "plt.plot(dim_range, time_range_second, label=\"2\")\n",
        "plt.plot(dim_range, time_range_third, label=\"3\")\n",
        "plt.legend(fontsize=18)\n",
        "plt.xlabel(\"Dimension\", fontsize=18)\n",
        "plt.ylabel(\"Time\", fontsize=18)\n",
        "plt.yscale(\"log\")"
      ],
      "metadata": {
        "colab": {
          "base_uri": "https://localhost:8080/",
          "height": 287
        },
        "id": "fcN7kWCEOeUA",
        "outputId": "ceac2920-9e2b-4028-9d59-14dea77824c5"
      },
      "execution_count": 36,
      "outputs": [
        {
          "output_type": "display_data",
          "data": {
            "text/plain": [
              "<Figure size 432x288 with 1 Axes>"
            ],
            "image/png": "[encoded data removed]"
          },
          "metadata": {
            "needs_background": "light"
          }
        }
      ]
    },
    {
      "cell_type": "code",
      "source": [
        "dim_range = [10**i for i in range(1, 5)]\n",
        "time_range_first = []\n",
        "time_range_second = []\n",
        "time_range_third = []\n",
        "for n in dim_range:\n",
        "    print(\"Dimension = {}\".format(n))\n",
        "    C = scipy.sparse.random(n, n, density=0.02, format='coo', dtype=np.float16)\n",
        "    A = scipy.sparse.identity(n, np.float16, format='coo') - C\n",
        "    B = np.random.rand(n)\n",
        "\n",
        "    t = %timeit -o -q scipy.sparse.linalg.spsolve(A, B)\n",
        "    time_range_first.append(t.best)\n",
        "    t = %timeit -o -q scipy.sparse.linalg.lsmr(A, B, atol=1e-05, btol=1e-05, show=show_info, x0=None)\n",
        "    time_range_second.append(t.best)\n",
        "    t = %timeit -o -q scipy.sparse.linalg.lsqr(A, B, atol=1e-05, btol=1e-05, show=show_info, x0=None)\n",
        "    time_range_third.append(t.best)"
      ],
      "metadata": {
        "colab": {
          "base_uri": "https://localhost:8080/"
        },
        "id": "LsTupTMvQhLH",
        "outputId": "b0d034ad-20e1-4480-a1ee-0ac54304cf87"
      },
      "execution_count": 38,
      "outputs": [
        {
          "output_type": "stream",
          "name": "stdout",
          "text": [
            "Dimension = 10\n",
            "Dimension = 100\n",
            "Dimension = 1000\n",
            "Dimension = 10000\n"
          ]
        }
      ]
    },
    {
      "cell_type": "code",
      "source": [
        "plt.plot(dim_range, time_range_first, label=\"1\")\n",
        "plt.plot(dim_range, time_range_second, label=\"2\")\n",
        "plt.plot(dim_range, time_range_third, label=\"3\")\n",
        "plt.legend(fontsize=18)\n",
        "plt.xlabel(\"Dimension\", fontsize=18)\n",
        "plt.ylabel(\"Time\", fontsize=18)\n",
        "plt.xscale(\"log\")\n",
        "plt.yscale(\"log\")"
      ],
      "metadata": {
        "colab": {
          "base_uri": "https://localhost:8080/",
          "height": 291
        },
        "id": "ZcSDIUeORHOH",
        "outputId": "91e1d70a-bf7f-4717-c2e3-6e275da7944b"
      },
      "execution_count": 43,
      "outputs": [
        {
          "output_type": "display_data",
          "data": {
            "text/plain": [
              "<Figure size 432x288 with 1 Axes>"
            ],
            "image/png": "[encoded data removed]"
          },
          "metadata": {
            "needs_background": "light"
          }
        }
      ]
    }
  ],
  "metadata": {
    "kernelspec": {
      "display_name": "Python 3",
      "language": "python",
      "name": "python3"
    },
    "language_info": {
      "codemirror_mode": {
        "name": "ipython",
        "version": 2
      },
      "file_extension": ".py",
      "mimetype": "text/x-python",
      "name": "python",
      "nbconvert_exporter": "python",
      "pygments_lexer": "ipython2",
      "version": "2.7.6"
    },
    "colab": {
      "provenance": []
    }
  },
  "nbformat": 4,
  "nbformat_minor": 0
}